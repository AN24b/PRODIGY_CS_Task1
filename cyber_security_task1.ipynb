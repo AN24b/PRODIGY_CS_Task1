{
 "cells": [
  {
   "cell_type": "code",
   "execution_count": 1,
   "id": "fd883424",
   "metadata": {},
   "outputs": [],
   "source": [
    "letters = 'abcdefghijklmnopqrstuvwxyz'\n",
    "num_letters = len(letters)"
   ]
  },
  {
   "cell_type": "code",
   "execution_count": 2,
   "id": "4c2ae024",
   "metadata": {},
   "outputs": [],
   "source": [
    "def encrypt(plaintext,key):\n",
    "    ciphertext =''\n",
    "    for letter in plaintext:\n",
    "        letter = letter.lower()\n",
    "        if not letter == ' ':\n",
    "            index = letters.find(letter)\n",
    "            if index == -1:\n",
    "                ciphertext += letter\n",
    "            else:\n",
    "                new_index = index + key\n",
    "                if new_index >= num_letters:\n",
    "                    new_index -= num_letters\n",
    "                ciphertext += letters[new_index]\n",
    "    return ciphertext"
   ]
  },
  {
   "cell_type": "code",
   "execution_count": 3,
   "id": "066fe3b8",
   "metadata": {},
   "outputs": [],
   "source": [
    "def decrypt(ciphertext,key):\n",
    "    plaintext =''\n",
    "    for letter in ciphertext:\n",
    "        letter = letter.lower()\n",
    "        if not letter == ' ':\n",
    "            index = letters.find(letter)\n",
    "            if index == -1:\n",
    "                plaintext += letter\n",
    "            else:\n",
    "                new_index = index - key\n",
    "                if new_index < 0:\n",
    "                    new_index += num_letters\n",
    "                plaintext += letters[new_index]\n",
    "    return plaintext"
   ]
  },
  {
   "cell_type": "code",
   "execution_count": 5,
   "id": "b019431b",
   "metadata": {},
   "outputs": [
    {
     "name": "stdout",
     "output_type": "stream",
     "text": [
      "\n",
      "*** CAESAR CIPHER PROGRAM ***\n",
      "\n",
      "Do you want to encrypt or decrypt?\n",
      "e/d: d\n",
      "\n",
      "DECRYPTION MODE IS ON\n",
      "\n",
      "Enter the key (1 through 26): 3\n",
      "Enter the text to decrypt: dqmdoleludgdu\n",
      "\n",
      "PLAINTEXT:  anjalibiradar\n"
     ]
    }
   ],
   "source": [
    "print()\n",
    "print('*** CAESAR CIPHER PROGRAM ***')\n",
    "print()\n",
    "print('Do you want to encrypt or decrypt?')\n",
    "user_input=input('e/d: ').lower()\n",
    "print()\n",
    "\n",
    "if user_input=='e':\n",
    "    print('ENCRYPTION MODE IS ON')\n",
    "    print()\n",
    "    key = int(input('Enter the key (1 through 26): '))\n",
    "    text = input('Enter the text to encrypt: ')\n",
    "    print()\n",
    "    \n",
    "    ciphertext = encrypt( text , key )\n",
    "    print ('CIPHERTEXT: ', ciphertext)\n",
    "\n",
    "    \n",
    "elif user_input=='d':\n",
    "    print('DECRYPTION MODE IS ON')\n",
    "    print()\n",
    "    key = int(input('Enter the key (1 through 26): '))\n",
    "    text = input('Enter the text to decrypt: ')\n",
    "    print()\n",
    "    \n",
    "    plaintext = decrypt( text , key )\n",
    "    print ('PLAINTEXT: ', plaintext)\n",
    "    "
   ]
  },
  {
   "cell_type": "code",
   "execution_count": null,
   "id": "49c226b2",
   "metadata": {},
   "outputs": [],
   "source": []
  }
 ],
 "metadata": {
  "kernelspec": {
   "display_name": "Python 3 (ipykernel)",
   "language": "python",
   "name": "python3"
  },
  "language_info": {
   "codemirror_mode": {
    "name": "ipython",
    "version": 3
   },
   "file_extension": ".py",
   "mimetype": "text/x-python",
   "name": "python",
   "nbconvert_exporter": "python",
   "pygments_lexer": "ipython3",
   "version": "3.11.5"
  }
 },
 "nbformat": 4,
 "nbformat_minor": 5
}
